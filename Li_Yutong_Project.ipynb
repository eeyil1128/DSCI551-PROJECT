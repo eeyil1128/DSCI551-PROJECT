{
  "cells": [
    {
      "cell_type": "markdown",
      "metadata": {
        "id": "view-in-github",
        "colab_type": "text"
      },
      "source": [
        "<a href=\"https://colab.research.google.com/github/eeyil1128/DSCI551-PROJECT/blob/develop/Li_Yutong_Project.ipynb\" target=\"_parent\"><img src=\"https://colab.research.google.com/assets/colab-badge.svg\" alt=\"Open In Colab\"/></a>"
      ]
    },
    {
      "cell_type": "markdown",
      "metadata": {
        "id": "Pw4PPaG6HfuO"
      },
      "source": [
        "# **1. Transfer Learning for Video Classification**"
      ]
    },
    {
      "cell_type": "code",
      "execution_count": 2,
      "metadata": {
        "colab": {
          "base_uri": "https://localhost:8080/"
        },
        "id": "opmtivu0QMPw",
        "outputId": "e1efb5cf-60f2-4652-f8de-9fcfabf9e73a"
      },
      "outputs": [
        {
          "output_type": "stream",
          "name": "stdout",
          "text": [
            "Drive already mounted at /content/drive; to attempt to forcibly remount, call drive.mount(\"/content/drive\", force_remount=True).\n"
          ]
        }
      ],
      "source": [
        "from google.colab import drive\n",
        "import os\n",
        "import cv2\n",
        "import numpy as np\n",
        "import tensorflow\n",
        "from sklearn.model_selection import train_test_split\n",
        "from tensorflow import keras\n",
        "from keras.utils import to_categorical\n",
        "from keras.preprocessing.image import ImageDataGenerator\n",
        "from keras.applications import ResNet50, EfficientNetB0, VGG16\n",
        "from keras.layers import Input, Flatten, Dropout, Dense, BatchNormalization, Activation\n",
        "from keras.models import Sequential, save_model, load_model\n",
        "from keras.optimizers import Adam\n",
        "from keras.losses import categorical_crossentropy\n",
        "from keras.callbacks import EarlyStopping, ModelCheckpoint\n",
        "from sklearn.preprocessing import LabelEncoder\n",
        "import matplotlib.pyplot as plt\n",
        "from sklearn.metrics import classification_report, confusion_matrix\n",
        "drive.mount('/content/drive')"
      ]
    },
    {
      "cell_type": "markdown",
      "metadata": {
        "id": "QNhfw5dKJMMA"
      },
      "source": [
        "**(d) Data Exploration and Pre-processing**"
      ]
    },
    {
      "cell_type": "code",
      "execution_count": 3,
      "metadata": {
        "colab": {
          "base_uri": "https://localhost:8080/"
        },
        "id": "kvFo10p-FhrP",
        "outputId": "be341e47-3c48-4660-bf2f-9b597ed38d15"
      },
      "outputs": [
        {
          "output_type": "stream",
          "name": "stdout",
          "text": [
            "The number of images in baseball 732\n",
            "The number of images in basketball 490\n",
            "The number of images in fencing 624\n",
            "The number of images in tennis 714\n",
            "The number of images in volleyball 703\n"
          ]
        }
      ],
      "source": [
        "data_dir = '/content/drive/MyDrive/Data/Sport Images'\n",
        "x_train = []\n",
        "y_train = []\n",
        "x_test = []\n",
        "y_test = []\n",
        "x_val = []\n",
        "y_val = []\n",
        "num_train=0\n",
        "num_validation=0\n",
        "num_test=0\n",
        "\n",
        "classes = [\"baseball\", \"basketball\", \"fencing\", \"tennis\", \"volleyball\"]\n",
        "\n",
        "for i, class_name in enumerate(classes):\n",
        "    \n",
        "    x_class = []\n",
        "    y_class = []\n",
        "\n",
        "    path=os.path.join(data_dir, class_name)\n",
        "    images=os.listdir(path) #all images in each folder\n",
        "\n",
        "    for image in images:\n",
        "\n",
        "        #remove data with wrong type\n",
        "        if image.endswith('.gif'):\n",
        "            continue\n",
        "\n",
        "        image=cv2.imread(str(os.path.join(path, image)))#read image using OpenCV\n",
        "        image=cv2.resize(image, (224,224))#part iii: resize images\n",
        "        \n",
        "        x_class.append(image)\n",
        "        y_class.append(class_name)\n",
        "\n",
        "    num=len(x_class)\n",
        "    print('The number of images in', class_name, num)\n",
        "    train_num=int(np.ceil(0.7 * num))\n",
        "    num_train+=train_num\n",
        "    validation_num = int(np.ceil(0.15 * num))\n",
        "    num_validation+=validation_num\n",
        "    test_num=num-train_num-validation_num\n",
        "    num_test+=test_num\n",
        "\n",
        "    #part ii: split data in each folder into train, test, and validation set\n",
        "    x_train_class, x_rest_class, y_train_class, y_rest_class= train_test_split(\n",
        "        x_class, y_class, train_size=train_num, random_state=0)\n",
        "    x_test_class, x_val_class, y_test_class, y_val_class=train_test_split(\n",
        "        x_rest_class, y_rest_class, test_size=validation_num, random_state=0)\n",
        "\n",
        "    x_train.extend(x_train_class)\n",
        "    y_train.extend(y_train_class)\n",
        "    x_test.extend(x_test_class)\n",
        "    y_test.extend(y_test_class)\n",
        "    x_val.extend(x_val_class)\n",
        "    y_val.extend(y_val_class)\n",
        "    \n",
        "x_train = np.array(x_train).reshape(num_train, 224, 224, 3)\n",
        "x_test = np.array(x_test).reshape(num_test, 224, 224, 3)\n",
        "x_val = np.array(x_val).reshape(num_validation, 224, 224, 3)"
      ]
    },
    {
      "cell_type": "markdown",
      "metadata": {
        "id": "ro4PJOD8wRC2"
      },
      "source": [
        "**(e) Transfer Learning for Image Classification**\n"
      ]
    },
    {
      "cell_type": "code",
      "execution_count": 4,
      "metadata": {
        "id": "tG_piMGdxM_8"
      },
      "outputs": [],
      "source": [
        "#Part ii\n",
        "\n",
        "train_aug = ImageDataGenerator(\n",
        "    width_shift_range=0.2,  \n",
        "    height_shift_range=0.2, #crop images horizontally and vertically\n",
        "    zoom_range=0.2,  #randomly zoom in by 20% most\n",
        "    rotation_range=10, #randomly rotate images by up to 10 degrees\n",
        "    horizontal_flip=True, #randomly flip images horizontally\n",
        "    #vertical_flip=False,\n",
        "    brightness_range=[0.5, 1.5],#modify contrast\n",
        "    fill_mode='nearest'#fill empty pixels with the nearest available pixel\n",
        ")\n",
        "\n",
        "#randomly stratify samples from training data and perform empirical regularization\n",
        "x_train_aug, x_unused, y_train_aug, y_unused = train_test_split(x_train, y_train, test_size=0.9, stratify=y_train)\n",
        "for i in range(len(x_train_aug)):\n",
        "    x=np.expand_dims(x_train_aug[i], axis=0)\n",
        "    aug_x=train_aug.flow(x, batch_size=32)\n",
        "    aug_x=aug_x.next()[0]\n",
        "    x_train=np.append(x_train, [aug_x], axis=0)\n",
        "    y_train.append(y_train_aug[i])\n"
      ]
    },
    {
      "cell_type": "code",
      "execution_count": 5,
      "metadata": {
        "colab": {
          "base_uri": "https://localhost:8080/"
        },
        "id": "XXQMSezjRVcj",
        "outputId": "d668a125-a755-4f8c-e978-035036f32389"
      },
      "outputs": [
        {
          "output_type": "stream",
          "name": "stdout",
          "text": [
            "Downloading data from https://storage.googleapis.com/tensorflow/keras-applications/resnet/resnet50_weights_tf_dim_ordering_tf_kernels_notop.h5\n",
            "94765736/94765736 [==============================] - 3s 0us/step\n",
            "Downloading data from https://storage.googleapis.com/keras-applications/efficientnetb0_notop.h5\n",
            "16705208/16705208 [==============================] - 1s 0us/step\n",
            "Downloading data from https://storage.googleapis.com/tensorflow/keras-applications/vgg16/vgg16_weights_tf_dim_ordering_tf_kernels_notop.h5\n",
            "58889256/58889256 [==============================] - 2s 0us/step\n"
          ]
        }
      ],
      "source": [
        "#Part iii, iv\n",
        "\n",
        "#use pre-trained models ResNet50, EfficientNetB0, and VGG16\n",
        "#freeze all layers before the last fully connected layer\n",
        "resnet=ResNet50(weights='imagenet', include_top=False, input_shape=(224, 224, 3))\n",
        "for layer in resnet.layers[:-1]: layer.trainable = False\n",
        "\n",
        "efficientnet=EfficientNetB0(weights='imagenet', include_top=False, input_shape=(224, 224, 3))\n",
        "for layer in efficientnet.layers[:-1]: layer.trainable = False\n",
        "\n",
        "vgg=VGG16(weights='imagenet', include_top=False, input_shape=(224, 224, 3))\n",
        "for layer in vgg.layers[:-1]: layer.trainable = False\n",
        "\n",
        "#convert y to one hot coder format\n",
        "y_train = LabelEncoder().fit_transform(y_train)\n",
        "y_val = LabelEncoder().fit_transform(y_val)\n",
        "y_train = to_categorical(y_train, num_classes=5)\n",
        "y_val = to_categorical(y_val, num_classes=5)\n",
        "y_test = LabelEncoder().fit_transform(y_test)\n",
        "y_test = to_categorical(y_test, num_classes=5)"
      ]
    },
    {
      "cell_type": "code",
      "execution_count": 5,
      "metadata": {
        "colab": {
          "base_uri": "https://localhost:8080/",
          "height": 1000
        },
        "id": "js1I_XStSElp",
        "outputId": "532e3733-b063-4c0f-89cf-d424dfab0e83"
      },
      "outputs": [
        {
          "output_type": "stream",
          "name": "stdout",
          "text": [
            "Epoch 1/100\n",
            "79/79 [==============================] - 31s 254ms/step - loss: 1.0012 - accuracy: 0.8138 - val_loss: 0.7869 - val_accuracy: 0.9045\n",
            "Epoch 2/100\n",
            "79/79 [==============================] - 17s 222ms/step - loss: 0.0821 - accuracy: 0.9698 - val_loss: 0.4484 - val_accuracy: 0.9228\n",
            "Epoch 3/100\n",
            "79/79 [==============================] - 18s 227ms/step - loss: 0.0238 - accuracy: 0.9924 - val_loss: 0.4337 - val_accuracy: 0.9228\n",
            "Epoch 4/100\n",
            "79/79 [==============================] - 18s 230ms/step - loss: 0.0124 - accuracy: 0.9956 - val_loss: 0.3480 - val_accuracy: 0.9207\n",
            "Epoch 5/100\n",
            "79/79 [==============================] - 19s 235ms/step - loss: 0.0086 - accuracy: 0.9984 - val_loss: 0.3465 - val_accuracy: 0.9350\n",
            "Epoch 6/100\n",
            "79/79 [==============================] - 18s 229ms/step - loss: 0.0074 - accuracy: 0.9976 - val_loss: 0.3411 - val_accuracy: 0.9268\n",
            "Epoch 7/100\n",
            "79/79 [==============================] - 12s 146ms/step - loss: 0.0081 - accuracy: 0.9968 - val_loss: 0.3656 - val_accuracy: 0.9207\n",
            "Epoch 8/100\n",
            "79/79 [==============================] - 12s 151ms/step - loss: 0.0067 - accuracy: 0.9976 - val_loss: 0.3540 - val_accuracy: 0.9289\n",
            "Epoch 9/100\n",
            "79/79 [==============================] - 19s 242ms/step - loss: 0.0037 - accuracy: 0.9992 - val_loss: 0.3349 - val_accuracy: 0.9289\n",
            "Epoch 10/100\n",
            "79/79 [==============================] - 19s 240ms/step - loss: 0.0032 - accuracy: 0.9996 - val_loss: 0.3172 - val_accuracy: 0.9350\n",
            "Epoch 11/100\n",
            "79/79 [==============================] - 11s 143ms/step - loss: 0.0032 - accuracy: 0.9996 - val_loss: 0.3415 - val_accuracy: 0.9309\n",
            "Epoch 12/100\n",
            "79/79 [==============================] - 12s 147ms/step - loss: 0.0027 - accuracy: 0.9992 - val_loss: 0.3737 - val_accuracy: 0.9289\n",
            "Epoch 13/100\n",
            "79/79 [==============================] - 12s 149ms/step - loss: 0.0040 - accuracy: 0.9988 - val_loss: 0.3955 - val_accuracy: 0.9268\n",
            "Epoch 14/100\n",
            "79/79 [==============================] - 12s 146ms/step - loss: 0.0078 - accuracy: 0.9984 - val_loss: 0.4193 - val_accuracy: 0.9309\n",
            "Epoch 15/100\n",
            "79/79 [==============================] - 11s 145ms/step - loss: 0.0068 - accuracy: 0.9976 - val_loss: 0.4000 - val_accuracy: 0.9268\n",
            "Epoch 16/100\n",
            "79/79 [==============================] - 11s 144ms/step - loss: 0.0037 - accuracy: 0.9996 - val_loss: 0.3926 - val_accuracy: 0.9309\n",
            "Epoch 17/100\n",
            "79/79 [==============================] - 11s 143ms/step - loss: 0.0016 - accuracy: 0.9996 - val_loss: 0.3960 - val_accuracy: 0.9329\n",
            "Epoch 18/100\n",
            "79/79 [==============================] - 11s 143ms/step - loss: 0.0021 - accuracy: 0.9996 - val_loss: 0.4035 - val_accuracy: 0.9370\n",
            "Epoch 19/100\n",
            "79/79 [==============================] - 11s 144ms/step - loss: 0.0050 - accuracy: 0.9988 - val_loss: 0.3983 - val_accuracy: 0.9350\n",
            "Epoch 20/100\n",
            "79/79 [==============================] - 11s 145ms/step - loss: 0.0172 - accuracy: 0.9964 - val_loss: 0.4431 - val_accuracy: 0.9289\n",
            "Epoch 20: early stopping\n"
          ]
        },
        {
          "output_type": "display_data",
          "data": {
            "text/plain": [
              "<Figure size 640x480 with 1 Axes>"
            ],
            "image/png": "[encoded data removed]"
          },
          "metadata": {}
        },
        {
          "output_type": "stream",
          "name": "stdout",
          "text": [
            "79/79 [==============================] - 9s 98ms/step\n",
            "16/16 [==============================] - 3s 127ms/step\n",
            "Scores for ResNet50 on training data: \n",
            "               precision    recall  f1-score   support\n",
            "\n",
            "           0       1.00      1.00      1.00       564\n",
            "           1       1.00      1.00      1.00       377\n",
            "           2       1.00      1.00      1.00       481\n",
            "           3       1.00      1.00      1.00       550\n",
            "           4       1.00      1.00      1.00       542\n",
            "\n",
            "    accuracy                           1.00      2514\n",
            "   macro avg       1.00      1.00      1.00      2514\n",
            "weighted avg       1.00      1.00      1.00      2514\n",
            "\n",
            "Scores for ResNet50 on test data: \n",
            "               precision    recall  f1-score   support\n",
            "\n",
            "           0       0.95      0.95      0.95       109\n",
            "           1       0.94      0.90      0.92        73\n",
            "           2       0.87      0.92      0.90        93\n",
            "           3       0.95      0.92      0.94       106\n",
            "           4       0.91      0.91      0.91       104\n",
            "\n",
            "    accuracy                           0.93       485\n",
            "   macro avg       0.93      0.92      0.92       485\n",
            "weighted avg       0.93      0.93      0.93       485\n",
            "\n",
            "confusion matrix for ResNet50 on training data: \n",
            " [[564   0   0   0   0]\n",
            " [  0 377   0   0   0]\n",
            " [  0   0 481   0   0]\n",
            " [  0   0   0 550   0]\n",
            " [  0   0   0   0 542]]\n",
            "confusion matrix for ResNet50 on test data: \n",
            " [[104   1   2   1   1]\n",
            " [  0  66   3   2   2]\n",
            " [  2   2  86   0   3]\n",
            " [  3   0   2  98   3]\n",
            " [  0   1   6   2  95]]\n"
          ]
        }
      ],
      "source": [
        "#train ResNet50\n",
        "\n",
        "resnet_model=Sequential()\n",
        "resnet_model.add(resnet)\n",
        "resnet_model.add(Flatten())\n",
        "resnet_model.add(BatchNormalization())\n",
        "resnet_model.add(Dropout(rate=0.2))\n",
        "resnet_model.add(Dense(1280, activation='relu'))#add last layer with ReLU activation\n",
        "resnet_model.add(BatchNormalization())#batch normalization\n",
        "resnet_model.add(Dropout(rate=0.2))#dropout rate of 0.2\n",
        "resnet_model.add(Dense(5, activation='softmax'))#add a layer with softmax activation\n",
        "\n",
        "#ADAM optimizer, multinomial cross entropy loss\n",
        "resnet_model.compile(optimizer=Adam(0.001), loss=categorical_crossentropy, metrics=['accuracy'])\n",
        "\n",
        "#perform early stopping using the validation set\n",
        "early_stopping=EarlyStopping(monitor='val_loss', mode='min', verbose=1, patience=10)\n",
        "#use ModelCheckpoint to keep the network parameters that have the lowest validation error(loss)\n",
        "model_checkpoint=ModelCheckpoint(filepath='best_weights.h5', monitor='val_loss', mode='min', save_best_only=True)\n",
        "\n",
        "result=resnet_model.fit(x=np.array(x_train), y=np.array(y_train), epochs=100, batch_size=32,\n",
        "                 validation_data=(np.array(x_val), np.array(y_val)), callbacks=[early_stopping, model_checkpoint])\n",
        "\n",
        "#Plot the training and validation errors vs. epochs\n",
        "plt.plot([1-x for x in result.history['accuracy']], label='train errors')\n",
        "plt.plot([1-x for x in result.history['val_accuracy']], label='validation errors')\n",
        "plt.title('ResNet50 training and validation error vs. epochs')\n",
        "plt.xlabel('Epoch')\n",
        "plt.ylabel('Error')\n",
        "plt.legend()\n",
        "plt.show()\n",
        "\n",
        "#Part V\n",
        "\n",
        "#Report the Confusion Matrix and scores for ResNet50\n",
        "resnet_model.load_weights('best_weights.h5')#optimal network parameters\n",
        "y_train_pred_resnet=np.argmax(resnet_model.predict(x_train), axis=-1)\n",
        "y_test_pred_resnet=np.argmax(resnet_model.predict(x_test), axis=-1)\n",
        "print('Scores for ResNet50 on training data:','\\n', classification_report(np.argmax(y_train, axis=1), y_train_pred_resnet))\n",
        "print('Scores for ResNet50 on test data:', '\\n', classification_report(np.argmax(y_test, axis=1), y_test_pred_resnet))\n",
        "print('confusion matrix for ResNet50 on training data:','\\n', confusion_matrix(np.argmax(y_train, axis=1), y_train_pred_resnet))\n",
        "print('confusion matrix for ResNet50 on test data:','\\n',confusion_matrix(np.argmax(y_test, axis=1), y_test_pred_resnet))"
      ]
    },
    {
      "cell_type": "code",
      "execution_count": 6,
      "metadata": {
        "id": "4ZL1MOyh-HHO",
        "colab": {
          "base_uri": "https://localhost:8080/",
          "height": 1000
        },
        "outputId": "c9ac7590-06fe-4ade-c8a3-44f20f120ed0"
      },
      "outputs": [
        {
          "output_type": "stream",
          "name": "stdout",
          "text": [
            "Epoch 1/100\n",
            "79/79 [==============================] - 18s 143ms/step - loss: 1.2357 - accuracy: 0.8079 - val_loss: 0.5469 - val_accuracy: 0.9065\n",
            "Epoch 2/100\n",
            "79/79 [==============================] - 8s 103ms/step - loss: 0.1108 - accuracy: 0.9646 - val_loss: 0.3488 - val_accuracy: 0.9187\n",
            "Epoch 3/100\n",
            "79/79 [==============================] - 8s 103ms/step - loss: 0.0517 - accuracy: 0.9853 - val_loss: 0.3315 - val_accuracy: 0.9228\n",
            "Epoch 4/100\n",
            "79/79 [==============================] - 8s 101ms/step - loss: 0.0220 - accuracy: 0.9924 - val_loss: 0.3207 - val_accuracy: 0.9248\n",
            "Epoch 5/100\n",
            "79/79 [==============================] - 7s 89ms/step - loss: 0.0225 - accuracy: 0.9924 - val_loss: 0.3277 - val_accuracy: 0.9289\n",
            "Epoch 6/100\n",
            "79/79 [==============================] - 7s 94ms/step - loss: 0.0162 - accuracy: 0.9932 - val_loss: 0.3321 - val_accuracy: 0.9309\n",
            "Epoch 7/100\n",
            "79/79 [==============================] - 7s 89ms/step - loss: 0.0103 - accuracy: 0.9968 - val_loss: 0.3409 - val_accuracy: 0.9228\n",
            "Epoch 8/100\n",
            "79/79 [==============================] - 7s 89ms/step - loss: 0.0130 - accuracy: 0.9960 - val_loss: 0.3352 - val_accuracy: 0.9207\n",
            "Epoch 9/100\n",
            "79/79 [==============================] - 7s 88ms/step - loss: 0.0030 - accuracy: 0.9992 - val_loss: 0.3272 - val_accuracy: 0.9268\n",
            "Epoch 10/100\n",
            "79/79 [==============================] - 7s 89ms/step - loss: 0.0120 - accuracy: 0.9956 - val_loss: 0.3483 - val_accuracy: 0.9207\n",
            "Epoch 11/100\n",
            "79/79 [==============================] - 7s 89ms/step - loss: 0.0042 - accuracy: 0.9996 - val_loss: 0.3830 - val_accuracy: 0.9228\n",
            "Epoch 12/100\n",
            "79/79 [==============================] - 7s 89ms/step - loss: 0.0108 - accuracy: 0.9960 - val_loss: 0.3947 - val_accuracy: 0.9289\n",
            "Epoch 13/100\n",
            "79/79 [==============================] - 7s 89ms/step - loss: 0.0112 - accuracy: 0.9960 - val_loss: 0.4056 - val_accuracy: 0.9248\n",
            "Epoch 14/100\n",
            "79/79 [==============================] - 7s 89ms/step - loss: 0.0122 - accuracy: 0.9964 - val_loss: 0.4215 - val_accuracy: 0.9268\n",
            "Epoch 14: early stopping\n"
          ]
        },
        {
          "output_type": "display_data",
          "data": {
            "text/plain": [
              "<Figure size 640x480 with 1 Axes>"
            ],
            "image/png": "[encoded data removed]"
          },
          "metadata": {}
        },
        {
          "output_type": "stream",
          "name": "stdout",
          "text": [
            "79/79 [==============================] - 7s 66ms/step\n",
            "16/16 [==============================] - 3s 88ms/step\n",
            "Scores for EfficientNetB0 on training data: \n",
            "               precision    recall  f1-score   support\n",
            "\n",
            "           0       1.00      1.00      1.00       564\n",
            "           1       1.00      1.00      1.00       377\n",
            "           2       1.00      1.00      1.00       481\n",
            "           3       1.00      1.00      1.00       550\n",
            "           4       1.00      1.00      1.00       542\n",
            "\n",
            "    accuracy                           1.00      2514\n",
            "   macro avg       1.00      1.00      1.00      2514\n",
            "weighted avg       1.00      1.00      1.00      2514\n",
            "\n",
            "Scores for EfficientNetB0 on test data: \n",
            "               precision    recall  f1-score   support\n",
            "\n",
            "           0       0.92      0.96      0.94       109\n",
            "           1       0.90      0.86      0.88        73\n",
            "           2       0.95      0.94      0.94        93\n",
            "           3       0.93      0.93      0.93       106\n",
            "           4       0.89      0.88      0.88       104\n",
            "\n",
            "    accuracy                           0.92       485\n",
            "   macro avg       0.92      0.91      0.92       485\n",
            "weighted avg       0.92      0.92      0.92       485\n",
            "\n",
            "confusion matrix for EfficientNetB0 on training data: \n",
            " [[563   0   0   1   0]\n",
            " [  0 377   0   0   0]\n",
            " [  1   0 480   0   0]\n",
            " [  0   0   0 550   0]\n",
            " [  0   0   0   0 542]]\n",
            "confusion matrix for EfficientNetB0 on test data \n",
            " [[105   0   1   3   0]\n",
            " [  1  63   1   2   6]\n",
            " [  1   2  87   0   3]\n",
            " [  5   0   0  99   2]\n",
            " [  2   5   3   3  91]]\n"
          ]
        }
      ],
      "source": [
        "#train EfficientNetB0\n",
        "\n",
        "efficientnet_model=Sequential()\n",
        "efficientnet_model.add(efficientnet)\n",
        "efficientnet_model.add(Flatten())\n",
        "efficientnet_model.add(BatchNormalization())\n",
        "efficientnet_model.add(Dropout(rate=0.2))\n",
        "efficientnet_model.add(Dense(1280, activation='relu'))#add last layer with ReLU activation\n",
        "efficientnet_model.add(BatchNormalization())#batch normalization\n",
        "efficientnet_model.add(Dropout(rate=0.2))#dropout rate of 0.2\n",
        "efficientnet_model.add(Dense(5, activation='softmax'))#add a layer with softmax activation\n",
        "\n",
        "efficientnet_model.compile(optimizer=Adam(0.001), loss=categorical_crossentropy, metrics=['accuracy'])\n",
        "\n",
        "early_stopping=EarlyStopping(monitor='val_loss', mode='min', verbose=1, patience=10)\n",
        "model_checkpoint=ModelCheckpoint(filepath='best_weights.h5', monitor='val_loss', \n",
        "                                 mode='min', save_best_only=True, save_weights_only=True)\n",
        "\n",
        "result=efficientnet_model.fit(x=np.array(x_train), y=np.array(y_train), epochs=100, batch_size=32,\n",
        "                 validation_data=(np.array(x_val), np.array(y_val)), callbacks=[early_stopping, model_checkpoint])\n",
        "\n",
        "#Plot the training and validation errors vs. epochs\n",
        "plt.plot([1-x for x in result.history['accuracy']], label='train errors')\n",
        "plt.plot([1-x for x in result.history['val_accuracy']], label='validation errors')\n",
        "plt.title('EfficientNetB0 training and validation error vs. epochs')\n",
        "plt.xlabel('Epoch')\n",
        "plt.ylabel('Error')\n",
        "plt.legend()\n",
        "plt.show()\n",
        "\n",
        "#Part V\n",
        "\n",
        "#Report the Confusion Matrix and scores for EfficientNetB0\n",
        "efficientnet_model.load_weights('best_weights.h5')\n",
        "y_train_pred_effnet=np.argmax(efficientnet_model.predict(x_train), axis=-1)\n",
        "y_test_pred_effnet=np.argmax(efficientnet_model.predict(x_test), axis=-1)\n",
        "print('Scores for EfficientNetB0 on training data:', '\\n', classification_report(np.argmax(y_train, axis=1), y_train_pred_effnet))\n",
        "print('Scores for EfficientNetB0 on test data:', '\\n', classification_report(np.argmax(y_test, axis=1), y_test_pred_effnet))\n",
        "print('confusion matrix for EfficientNetB0 on training data:', '\\n',confusion_matrix(np.argmax(y_train, axis=1), y_train_pred_effnet))\n",
        "print('confusion matrix for EfficientNetB0 on test data','\\n',confusion_matrix(np.argmax(y_test, axis=1), y_test_pred_effnet))"
      ]
    },
    {
      "cell_type": "code",
      "execution_count": 6,
      "metadata": {
        "id": "w2Z2jIJM-HRP",
        "colab": {
          "base_uri": "https://localhost:8080/",
          "height": 1000
        },
        "outputId": "77802b7f-88ae-4f88-8b72-47ad2dbb49f9"
      },
      "outputs": [
        {
          "output_type": "stream",
          "name": "stdout",
          "text": [
            "Epoch 1/100\n",
            "79/79 [==============================] - 28s 216ms/step - loss: 1.1244 - accuracy: 0.7904 - val_loss: 1.8847 - val_accuracy: 0.8394\n",
            "Epoch 2/100\n",
            "79/79 [==============================] - 13s 160ms/step - loss: 0.1093 - accuracy: 0.9662 - val_loss: 0.7067 - val_accuracy: 0.8801\n",
            "Epoch 3/100\n",
            "79/79 [==============================] - 13s 163ms/step - loss: 0.0397 - accuracy: 0.9877 - val_loss: 0.5191 - val_accuracy: 0.9004\n",
            "Epoch 4/100\n",
            "79/79 [==============================] - 13s 164ms/step - loss: 0.0142 - accuracy: 0.9960 - val_loss: 0.4536 - val_accuracy: 0.9004\n",
            "Epoch 5/100\n",
            "79/79 [==============================] - 13s 163ms/step - loss: 0.0192 - accuracy: 0.9912 - val_loss: 0.4356 - val_accuracy: 0.9004\n",
            "Epoch 6/100\n",
            "79/79 [==============================] - 13s 165ms/step - loss: 0.0133 - accuracy: 0.9964 - val_loss: 0.4131 - val_accuracy: 0.9045\n",
            "Epoch 7/100\n",
            "79/79 [==============================] - 12s 151ms/step - loss: 0.0086 - accuracy: 0.9972 - val_loss: 0.4486 - val_accuracy: 0.8943\n",
            "Epoch 8/100\n",
            "79/79 [==============================] - 12s 152ms/step - loss: 0.0147 - accuracy: 0.9960 - val_loss: 0.4640 - val_accuracy: 0.8984\n",
            "Epoch 9/100\n",
            "79/79 [==============================] - 12s 154ms/step - loss: 0.0112 - accuracy: 0.9972 - val_loss: 0.4546 - val_accuracy: 0.9004\n",
            "Epoch 10/100\n",
            "79/79 [==============================] - 12s 157ms/step - loss: 0.0068 - accuracy: 0.9976 - val_loss: 0.4177 - val_accuracy: 0.9045\n",
            "Epoch 11/100\n",
            "79/79 [==============================] - 12s 158ms/step - loss: 0.0056 - accuracy: 0.9984 - val_loss: 0.4649 - val_accuracy: 0.8943\n",
            "Epoch 12/100\n",
            "79/79 [==============================] - 13s 159ms/step - loss: 0.0073 - accuracy: 0.9968 - val_loss: 0.4724 - val_accuracy: 0.8902\n",
            "Epoch 13/100\n",
            "79/79 [==============================] - 12s 157ms/step - loss: 0.0071 - accuracy: 0.9976 - val_loss: 0.4897 - val_accuracy: 0.8923\n",
            "Epoch 14/100\n",
            "79/79 [==============================] - 12s 156ms/step - loss: 0.0073 - accuracy: 0.9972 - val_loss: 0.4963 - val_accuracy: 0.9085\n",
            "Epoch 15/100\n",
            "79/79 [==============================] - 12s 156ms/step - loss: 0.0168 - accuracy: 0.9952 - val_loss: 0.5069 - val_accuracy: 0.9004\n",
            "Epoch 16/100\n",
            "79/79 [==============================] - 12s 158ms/step - loss: 0.0071 - accuracy: 0.9976 - val_loss: 0.4878 - val_accuracy: 0.9065\n",
            "Epoch 16: early stopping\n"
          ]
        },
        {
          "output_type": "display_data",
          "data": {
            "text/plain": [
              "<Figure size 640x480 with 1 Axes>"
            ],
            "image/png": "[encoded data removed]"
          },
          "metadata": {}
        },
        {
          "output_type": "stream",
          "name": "stdout",
          "text": [
            "79/79 [==============================] - 10s 124ms/step\n",
            "16/16 [==============================] - 3s 196ms/step\n",
            "Scores for VGG16 on training data \n",
            "               precision    recall  f1-score   support\n",
            "\n",
            "           0       1.00      1.00      1.00       564\n",
            "           1       1.00      1.00      1.00       377\n",
            "           2       1.00      1.00      1.00       481\n",
            "           3       1.00      1.00      1.00       550\n",
            "           4       1.00      1.00      1.00       542\n",
            "\n",
            "    accuracy                           1.00      2514\n",
            "   macro avg       1.00      1.00      1.00      2514\n",
            "weighted avg       1.00      1.00      1.00      2514\n",
            "\n",
            "Scores for VGG16 on test data \n",
            "               precision    recall  f1-score   support\n",
            "\n",
            "           0       0.90      0.95      0.93       109\n",
            "           1       0.89      0.89      0.89        73\n",
            "           2       0.95      0.87      0.91        93\n",
            "           3       0.96      0.87      0.91       106\n",
            "           4       0.85      0.95      0.90       104\n",
            "\n",
            "    accuracy                           0.91       485\n",
            "   macro avg       0.91      0.91      0.91       485\n",
            "weighted avg       0.91      0.91      0.91       485\n",
            "\n",
            "confusion matrix for VGG16 on training data \n",
            " [[564   0   0   0   0]\n",
            " [  0 377   0   0   0]\n",
            " [  0   0 481   0   0]\n",
            " [  0   0   0 550   0]\n",
            " [  0   0   0   0 542]]\n",
            "confusion matrix for VGG16 on test data \n",
            " [[104   2   2   1   0]\n",
            " [  1  65   0   1   6]\n",
            " [  2   2  81   2   6]\n",
            " [  7   1   1  92   5]\n",
            " [  1   3   1   0  99]]\n"
          ]
        }
      ],
      "source": [
        "#train VGG16\n",
        "\n",
        "vgg_model=Sequential()\n",
        "vgg_model.add(vgg)\n",
        "vgg_model.add(Flatten())\n",
        "vgg_model.add(BatchNormalization())\n",
        "vgg_model.add(Dropout(rate=0.2))\n",
        "vgg_model.add(Dense(1280, activation='relu'))#add last layer with ReLU activation\n",
        "vgg_model.add(BatchNormalization())#batch normalization\n",
        "vgg_model.add(Dropout(rate=0.2))#dropout rate of 0.2\n",
        "vgg_model.add(Dense(5, activation='softmax'))#add a layer with softmax activation\n",
        "\n",
        "vgg_model.compile(optimizer=Adam(0.001), loss=categorical_crossentropy, metrics=['accuracy'])\n",
        "\n",
        "early_stopping=EarlyStopping(monitor='val_loss', mode='min', verbose=1, patience=10)\n",
        "model_checkpoint=ModelCheckpoint(filepath='best_weights.h5', monitor='val_loss', mode='min', save_best_only=True)\n",
        "\n",
        "result=vgg_model.fit(x=np.array(x_train), y=np.array(y_train), epochs=100, batch_size=32,\n",
        "                 validation_data=(np.array(x_val), np.array(y_val)), callbacks=[early_stopping, model_checkpoint])\n",
        "\n",
        "#Plot the training and validation errors vs. epochs\n",
        "plt.plot([1-x for x in result.history['accuracy']], label='train errors')\n",
        "plt.plot([1-x for x in result.history['val_accuracy']], label='validation errors')\n",
        "plt.title('VGG16 training and validation error vs. epochs')\n",
        "plt.xlabel('Epoch')\n",
        "plt.ylabel('Error')\n",
        "plt.legend()\n",
        "plt.show()\n",
        "\n",
        "#Part V\n",
        "\n",
        "#Report the Confusion Matrix and scores for VGG16\n",
        "vgg_model.load_weights('best_weights.h5')\n",
        "y_train_pred_vgg=np.argmax(vgg_model.predict(x_train), axis=-1)\n",
        "y_test_pred_vgg=np.argmax(vgg_model.predict(x_test), axis=-1)\n",
        "print('Scores for VGG16 on training data', '\\n',classification_report(np.argmax(y_train, axis=1), y_train_pred_vgg))\n",
        "print('Scores for VGG16 on test data', '\\n',classification_report(np.argmax(y_test, axis=1), y_test_pred_vgg))\n",
        "print('confusion matrix for VGG16 on training data','\\n',confusion_matrix(np.argmax(y_train, axis=1), y_train_pred_vgg))\n",
        "print('confusion matrix for VGG16 on test data','\\n',confusion_matrix(np.argmax(y_test, axis=1), y_test_pred_vgg))"
      ]
    },
    {
      "cell_type": "markdown",
      "metadata": {
        "id": "dI9b16p5KJ5X"
      },
      "source": [
        "**(f) Video Classification Using Moving Averages**"
      ]
    },
    {
      "cell_type": "markdown",
      "metadata": {
        "id": "x-P5Ln46UM20"
      },
      "source": [
        "Part i:"
      ]
    },
    {
      "cell_type": "code",
      "execution_count": 8,
      "metadata": {
        "id": "lJO9b4zRRy5q",
        "colab": {
          "base_uri": "https://localhost:8080/"
        },
        "outputId": "8f1035b2-3e46-48fa-c842-6a7e47104d12"
      },
      "outputs": [
        {
          "output_type": "stream",
          "name": "stdout",
          "text": [
            "Epoch 1/50\n",
            "94/94 [==============================] - 22s 233ms/step - loss: 0.1598 - accuracy: 0.9591 - val_loss: 0.5278 - val_accuracy: 0.9155\n",
            "Epoch 2/50\n",
            "94/94 [==============================] - 20s 217ms/step - loss: 0.1173 - accuracy: 0.9624 - val_loss: 0.4549 - val_accuracy: 0.9175\n",
            "Epoch 3/50\n",
            "94/94 [==============================] - 22s 230ms/step - loss: 0.0414 - accuracy: 0.9874 - val_loss: 0.3881 - val_accuracy: 0.9155\n",
            "Epoch 4/50\n",
            "94/94 [==============================] - 21s 227ms/step - loss: 0.0102 - accuracy: 0.9957 - val_loss: 0.3443 - val_accuracy: 0.9175\n",
            "Epoch 5/50\n",
            "94/94 [==============================] - 21s 221ms/step - loss: 0.0160 - accuracy: 0.9940 - val_loss: 0.3186 - val_accuracy: 0.9258\n",
            "Epoch 6/50\n",
            "94/94 [==============================] - 21s 219ms/step - loss: 0.0114 - accuracy: 0.9967 - val_loss: 0.2862 - val_accuracy: 0.9299\n",
            "Epoch 7/50\n",
            "94/94 [==============================] - 13s 143ms/step - loss: 0.0070 - accuracy: 0.9970 - val_loss: 0.3304 - val_accuracy: 0.9340\n",
            "Epoch 8/50\n",
            "94/94 [==============================] - 13s 143ms/step - loss: 0.0064 - accuracy: 0.9977 - val_loss: 0.3509 - val_accuracy: 0.9258\n",
            "Epoch 9/50\n",
            "94/94 [==============================] - 13s 143ms/step - loss: 0.0033 - accuracy: 0.9987 - val_loss: 0.3310 - val_accuracy: 0.9340\n",
            "Epoch 10/50\n",
            "94/94 [==============================] - 13s 143ms/step - loss: 0.0071 - accuracy: 0.9967 - val_loss: 0.3364 - val_accuracy: 0.9361\n",
            "Epoch 11/50\n",
            "94/94 [==============================] - 13s 142ms/step - loss: 0.0083 - accuracy: 0.9970 - val_loss: 0.3294 - val_accuracy: 0.9258\n",
            "Epoch 12/50\n",
            "94/94 [==============================] - 13s 141ms/step - loss: 0.0042 - accuracy: 0.9990 - val_loss: 0.3171 - val_accuracy: 0.9299\n",
            "Epoch 13/50\n",
            "94/94 [==============================] - 13s 141ms/step - loss: 0.0020 - accuracy: 0.9997 - val_loss: 0.3518 - val_accuracy: 0.9320\n",
            "Epoch 14/50\n",
            "94/94 [==============================] - 13s 141ms/step - loss: 0.0044 - accuracy: 0.9977 - val_loss: 0.3430 - val_accuracy: 0.9258\n",
            "Epoch 15/50\n",
            "94/94 [==============================] - 13s 141ms/step - loss: 0.0039 - accuracy: 0.9987 - val_loss: 0.3575 - val_accuracy: 0.9361\n",
            "Epoch 16/50\n",
            "94/94 [==============================] - 13s 141ms/step - loss: 0.0041 - accuracy: 0.9983 - val_loss: 0.3550 - val_accuracy: 0.9258\n",
            "Epoch 16: early stopping\n"
          ]
        }
      ],
      "source": [
        "#retrain resent model using validation set and save the model with lowest test loss\n",
        "early_stopping=EarlyStopping(monitor='val_loss', mode='min', verbose=1, patience=10)\n",
        "model_checkpoint=ModelCheckpoint(filepath='best_weights.h5', monitor='val_loss', mode='min', save_best_only=True)\n",
        "resnet_model.fit(np.concatenate((np.array(x_train), np.array(x_val))), np.concatenate((np.array(y_train), np.array(y_val))),\n",
        "                    validation_data=(np.array(x_test), np.array(y_test)),\n",
        "                    epochs=50, batch_size=32, callbacks=[early_stopping, model_checkpoint])\n",
        "resnet_model.load_weights('best_weights.h5')"
      ]
    },
    {
      "cell_type": "code",
      "execution_count": 9,
      "metadata": {
        "id": "nifQD55Yn67v",
        "colab": {
          "base_uri": "https://localhost:8080/"
        },
        "outputId": "bae45fc2-c879-4183-9c38-93b237b7de22"
      },
      "outputs": [
        {
          "output_type": "stream",
          "name": "stdout",
          "text": [
            "Epoch 1/50\n",
            "94/94 [==============================] - 11s 111ms/step - loss: 0.1550 - accuracy: 0.9647 - val_loss: 0.4914 - val_accuracy: 0.8804\n",
            "Epoch 2/50\n",
            "94/94 [==============================] - 9s 99ms/step - loss: 0.0795 - accuracy: 0.9744 - val_loss: 0.2706 - val_accuracy: 0.9278\n",
            "Epoch 3/50\n",
            "94/94 [==============================] - 9s 100ms/step - loss: 0.0422 - accuracy: 0.9864 - val_loss: 0.2531 - val_accuracy: 0.9278\n",
            "Epoch 4/50\n",
            "94/94 [==============================] - 9s 101ms/step - loss: 0.0200 - accuracy: 0.9923 - val_loss: 0.2090 - val_accuracy: 0.9402\n",
            "Epoch 5/50\n",
            "94/94 [==============================] - 8s 87ms/step - loss: 0.0122 - accuracy: 0.9960 - val_loss: 0.2680 - val_accuracy: 0.9340\n",
            "Epoch 6/50\n",
            "94/94 [==============================] - 8s 87ms/step - loss: 0.0183 - accuracy: 0.9917 - val_loss: 0.3110 - val_accuracy: 0.9340\n",
            "Epoch 7/50\n",
            "94/94 [==============================] - 8s 87ms/step - loss: 0.0085 - accuracy: 0.9970 - val_loss: 0.2715 - val_accuracy: 0.9464\n",
            "Epoch 8/50\n",
            "94/94 [==============================] - 8s 87ms/step - loss: 0.0100 - accuracy: 0.9973 - val_loss: 0.2705 - val_accuracy: 0.9443\n",
            "Epoch 9/50\n",
            "94/94 [==============================] - 8s 87ms/step - loss: 0.0099 - accuracy: 0.9967 - val_loss: 0.3078 - val_accuracy: 0.9402\n",
            "Epoch 10/50\n",
            "94/94 [==============================] - 8s 87ms/step - loss: 0.0092 - accuracy: 0.9970 - val_loss: 0.3314 - val_accuracy: 0.9278\n",
            "Epoch 11/50\n",
            "94/94 [==============================] - 8s 87ms/step - loss: 0.0121 - accuracy: 0.9963 - val_loss: 0.3164 - val_accuracy: 0.9402\n",
            "Epoch 12/50\n",
            "94/94 [==============================] - 8s 87ms/step - loss: 0.0122 - accuracy: 0.9950 - val_loss: 0.3039 - val_accuracy: 0.9443\n",
            "Epoch 13/50\n",
            "94/94 [==============================] - 8s 87ms/step - loss: 0.0084 - accuracy: 0.9973 - val_loss: 0.3007 - val_accuracy: 0.9402\n",
            "Epoch 14/50\n",
            "94/94 [==============================] - 8s 87ms/step - loss: 0.0091 - accuracy: 0.9967 - val_loss: 0.3664 - val_accuracy: 0.9361\n",
            "Epoch 14: early stopping\n"
          ]
        }
      ],
      "source": [
        "#retrain efficientnet model using validation set and save the model with lowest test loss\n",
        "tensorflow.debugging.set_log_device_placement(True) \n",
        "keras.backend.clear_session()\n",
        "early_stopping=EarlyStopping(monitor='val_loss', mode='min', verbose=1, patience=10)\n",
        "model_checkpoint=ModelCheckpoint(filepath='best_weights.h5', monitor='val_loss', mode='min', \n",
        "                                 save_best_only=True, save_weights_only=True)\n",
        "efficientnet_model.fit(np.concatenate((np.array(x_train), np.array(x_val))), np.concatenate((np.array(y_train), np.array(y_val))),\n",
        "                    validation_data=(np.array(x_test), np.array(y_test)),\n",
        "                    epochs=50, batch_size=32, callbacks=[early_stopping, model_checkpoint])\n",
        "efficientnet_model.load_weights('best_weights.h5')"
      ]
    },
    {
      "cell_type": "code",
      "execution_count": 7,
      "metadata": {
        "id": "83lm4NLuqKom",
        "colab": {
          "base_uri": "https://localhost:8080/"
        },
        "outputId": "a92a1552-4479-4f94-f42e-e9574b0fe150"
      },
      "outputs": [
        {
          "output_type": "stream",
          "name": "stdout",
          "text": [
            "Epoch 1/50\n",
            "94/94 [==============================] - 20s 214ms/step - loss: 0.1508 - accuracy: 0.9597 - val_loss: 0.5929 - val_accuracy: 0.8845\n",
            "Epoch 2/50\n",
            "94/94 [==============================] - 16s 174ms/step - loss: 0.0546 - accuracy: 0.9784 - val_loss: 0.4605 - val_accuracy: 0.9031\n",
            "Epoch 3/50\n",
            "94/94 [==============================] - 15s 156ms/step - loss: 0.0558 - accuracy: 0.9834 - val_loss: 0.4978 - val_accuracy: 0.9052\n",
            "Epoch 4/50\n",
            "94/94 [==============================] - 16s 169ms/step - loss: 0.0251 - accuracy: 0.9897 - val_loss: 0.4384 - val_accuracy: 0.9052\n",
            "Epoch 5/50\n",
            "94/94 [==============================] - 14s 153ms/step - loss: 0.0211 - accuracy: 0.9927 - val_loss: 0.4753 - val_accuracy: 0.9052\n",
            "Epoch 6/50\n",
            "94/94 [==============================] - 14s 154ms/step - loss: 0.0117 - accuracy: 0.9963 - val_loss: 0.4670 - val_accuracy: 0.9052\n",
            "Epoch 7/50\n",
            "94/94 [==============================] - 15s 155ms/step - loss: 0.0102 - accuracy: 0.9963 - val_loss: 0.4501 - val_accuracy: 0.9093\n",
            "Epoch 8/50\n",
            "94/94 [==============================] - 14s 154ms/step - loss: 0.0097 - accuracy: 0.9970 - val_loss: 0.4436 - val_accuracy: 0.9052\n",
            "Epoch 9/50\n",
            "94/94 [==============================] - 14s 154ms/step - loss: 0.0115 - accuracy: 0.9957 - val_loss: 0.4506 - val_accuracy: 0.8948\n",
            "Epoch 10/50\n",
            "94/94 [==============================] - 14s 154ms/step - loss: 0.0075 - accuracy: 0.9973 - val_loss: 0.4501 - val_accuracy: 0.9113\n",
            "Epoch 11/50\n",
            "94/94 [==============================] - 14s 153ms/step - loss: 0.0082 - accuracy: 0.9977 - val_loss: 0.4750 - val_accuracy: 0.9031\n",
            "Epoch 12/50\n",
            "94/94 [==============================] - 14s 154ms/step - loss: 0.0048 - accuracy: 0.9990 - val_loss: 0.5122 - val_accuracy: 0.9134\n",
            "Epoch 13/50\n",
            "94/94 [==============================] - 14s 154ms/step - loss: 0.0080 - accuracy: 0.9970 - val_loss: 0.4835 - val_accuracy: 0.9010\n",
            "Epoch 14/50\n",
            "94/94 [==============================] - 15s 155ms/step - loss: 0.0079 - accuracy: 0.9980 - val_loss: 0.4824 - val_accuracy: 0.9052\n",
            "Epoch 14: early stopping\n"
          ]
        }
      ],
      "source": [
        "#retrain vgg model using validation set and save the model with lowest test loss\n",
        "early_stopping=EarlyStopping(monitor='val_loss', mode='min', verbose=1, patience=10)\n",
        "model_checkpoint=ModelCheckpoint(filepath='best_weights.h5', monitor='val_loss', mode='min', \n",
        "                                 save_best_only=True)\n",
        "vgg_model.fit(np.concatenate((np.array(x_train), np.array(x_val))), np.concatenate((np.array(y_train), np.array(y_val))),\n",
        "                    validation_data=(np.array(x_test), np.array(y_test)),\n",
        "                    epochs=50, batch_size=32, callbacks=[early_stopping, model_checkpoint])\n",
        "vgg_model.load_weights('best_weights.h5')"
      ]
    },
    {
      "cell_type": "markdown",
      "metadata": {
        "id": "Z0UUtCiWZRDx"
      },
      "source": [
        "Part ii & iii & iv:"
      ]
    },
    {
      "cell_type": "code",
      "execution_count": 11,
      "metadata": {
        "id": "fu0S8v5T9CK7",
        "colab": {
          "base_uri": "https://localhost:8080/"
        },
        "outputId": "ad6450eb-b48c-42a5-ccdb-27414879f741"
      },
      "outputs": [
        {
          "output_type": "stream",
          "name": "stdout",
          "text": [
            "BaseballPitch :\n",
            "probability predictions obtained\n",
            "Basketball :\n",
            "probability predictions obtained\n",
            "Fencing :\n",
            "probability predictions obtained\n",
            "TennisSwing :\n",
            "probability predictions obtained\n",
            "VolleyballSpiking :\n",
            "probability predictions obtained\n",
            "confusion matrix: \n",
            " [[125   0  18   5   2]\n",
            " [ 21   2  49  35  30]\n",
            " [  0   0 106   0   5]\n",
            " [ 13   0  27 121   6]\n",
            " [  1   0  63   1  51]]\n",
            "scores: \n",
            "               precision    recall  f1-score   support\n",
            "\n",
            "           0       0.78      0.83      0.81       150\n",
            "           1       1.00      0.01      0.03       137\n",
            "           2       0.40      0.95      0.57       111\n",
            "           3       0.75      0.72      0.74       167\n",
            "           4       0.54      0.44      0.49       116\n",
            "\n",
            "    accuracy                           0.59       681\n",
            "   macro avg       0.69      0.59      0.52       681\n",
            "weighted avg       0.71      0.59      0.54       681\n",
            "\n"
          ]
        }
      ],
      "source": [
        "video_dir = '/content/drive/MyDrive/Data/Sport Videos'\n",
        "video_classes = [\"BaseballPitch\", \"Basketball\", \"Fencing\", \"TennisSwing\", \"VolleyballSpiking\"]\n",
        "\n",
        "#resnet_model\n",
        "\n",
        "labels_pred=[]\n",
        "labels_true=[]\n",
        "\n",
        "for video_class in video_classes:\n",
        "\n",
        "    print(video_class,':')\n",
        "    path=os.path.join(video_dir, video_class)\n",
        "    videos=os.listdir(path)#all videos in each folder\n",
        "    \n",
        "    for video in videos:\n",
        "\n",
        "        if video.endswith('.avi'):\n",
        "\n",
        "          capture=cv2.VideoCapture(str(os.path.join(path, video)))\n",
        "          num_frames=int(capture.get(cv2.CAP_PROP_FRAME_COUNT))\n",
        "          frame_indices=np.linspace(0, num_frames-1, 100, dtype=int)#indices of 100 equally spaced frames\n",
        "\n",
        "          if num_frames<100:#use all frames if a video has less the 100 frames\n",
        "            frame_indices=range(num_frames)\n",
        "          \n",
        "          frame_probs=[]\n",
        "          for i in frame_indices:\n",
        "              capture.set(cv2.CAP_PROP_POS_FRAMES, i)#set frame\n",
        "              ret, frame=capture.read()#read frame\n",
        "              if not ret:\n",
        "                continue\n",
        "              frame=cv2.resize(frame, (224, 224))\n",
        "              frame=np.expand_dims(frame, axis=0)\n",
        "\n",
        "              #predict probability for each frame\n",
        "              prob=resnet_model.predict(frame, verbose=0)[0]\n",
        "              frame_probs.append(prob)\n",
        "\n",
        "          #Calculate the average p of these probability vectors for each video\n",
        "          avg_probs=np.mean(frame_probs, axis=0)\n",
        "          #print(video, avg_probs)\n",
        "          \n",
        "          label_pred=video_classes[np.argmax(avg_probs)]#Select the class with maximum probability\n",
        "          labels_pred.append(label_pred)\n",
        "          labels_true.append(video_class)#store true labels\n",
        "\n",
        "    print('probability predictions obtained')\n",
        "#convert labels into consistent format\n",
        "labels_pred=LabelEncoder().fit_transform(labels_pred)\n",
        "labels_pred=to_categorical(labels_pred, num_classes=5)\n",
        "labels_true=LabelEncoder().fit_transform(labels_true)\n",
        "labels_true=to_categorical(labels_true, num_classes=5)\n",
        "\n",
        "print('confusion matrix:', '\\n', confusion_matrix(np.argmax(labels_true, axis=1), np.argmax(labels_pred, axis=1)))\n",
        "print('scores:', '\\n', classification_report(np.argmax(labels_true, axis=1), np.argmax(labels_pred, axis=1)))"
      ]
    },
    {
      "cell_type": "code",
      "execution_count": 12,
      "metadata": {
        "id": "WUK3FPCUUkjh",
        "colab": {
          "base_uri": "https://localhost:8080/"
        },
        "outputId": "28821f61-45bc-4663-a23b-7038e13d0379"
      },
      "outputs": [
        {
          "output_type": "stream",
          "name": "stdout",
          "text": [
            "BaseballPitch :\n",
            "probability predictions obtained\n",
            "Basketball :\n",
            "probability predictions obtained\n",
            "Fencing :\n",
            "probability predictions obtained\n",
            "TennisSwing :\n",
            "probability predictions obtained\n",
            "VolleyballSpiking :\n",
            "probability predictions obtained\n",
            "confusion matrix: \n",
            " [[140   0   9   0   1]\n",
            " [  9   1  66   9  52]\n",
            " [  0   0 109   0   2]\n",
            " [  9   0  15 120  23]\n",
            " [  0   0  64   0  52]]\n",
            "scores: \n",
            "               precision    recall  f1-score   support\n",
            "\n",
            "           0       0.89      0.93      0.91       150\n",
            "           1       1.00      0.01      0.01       137\n",
            "           2       0.41      0.98      0.58       111\n",
            "           3       0.93      0.72      0.81       167\n",
            "           4       0.40      0.45      0.42       116\n",
            "\n",
            "    accuracy                           0.62       681\n",
            "   macro avg       0.73      0.62      0.55       681\n",
            "weighted avg       0.76      0.62      0.57       681\n",
            "\n"
          ]
        }
      ],
      "source": [
        "#efficientnet_model\n",
        "tensorflow.debugging.set_log_device_placement(True) \n",
        "keras.backend.clear_session()\n",
        "\n",
        "labels_pred=[]\n",
        "labels_true=[]\n",
        "\n",
        "for video_class in video_classes:\n",
        "\n",
        "    print(video_class,':')\n",
        "    path=os.path.join(video_dir, video_class)\n",
        "    videos=os.listdir(path) #all videos in each folder\n",
        "    \n",
        "    for video in videos:\n",
        "\n",
        "        if video.endswith('.avi'):\n",
        "          capture=cv2.VideoCapture(str(os.path.join(path, video)))\n",
        "          num_frames=int(capture.get(cv2.CAP_PROP_FRAME_COUNT))\n",
        "          frame_indices=np.linspace(0, num_frames-1, 100, dtype=int)#indices of 100 equally spaced frame\n",
        "\n",
        "          if num_frames<100:#use all frames if a video has less the 100 frames\n",
        "            frame_indices=range(num_frames)\n",
        "                    \n",
        "          frame_probs=[]\n",
        "          for i in frame_indices:\n",
        "              capture.set(cv2.CAP_PROP_POS_FRAMES, i)#set frame\n",
        "              ret, frame = capture.read()#read frame\n",
        "              if not ret:\n",
        "                  continue\n",
        "              frame=cv2.resize(frame, (224, 224))\n",
        "              frame=np.expand_dims(frame, axis=0)\n",
        "\n",
        "              #predict probability for each frame\n",
        "              prob=efficientnet_model.predict(frame, verbose=0)[0]\n",
        "              frame_probs.append(prob)\n",
        "          avg_probs = np.mean(frame_probs, axis=0)\n",
        "          #print(video, avg_probs)\n",
        "          \n",
        "          label_pred=video_classes[np.argmax(avg_probs)]#Select the class with maximum probability\n",
        "          labels_pred.append(label_pred)\n",
        "          labels_true.append(video_class)#append true label\n",
        "    \n",
        "    print('probability predictions obtained')\n",
        "\n",
        "labels_pred=LabelEncoder().fit_transform(labels_pred)\n",
        "labels_pred=to_categorical(labels_pred, num_classes=5)\n",
        "labels_true=LabelEncoder().fit_transform(labels_true)\n",
        "labels_true=to_categorical(labels_true, num_classes=5)\n",
        "\n",
        "print('confusion matrix:', '\\n', confusion_matrix(np.argmax(labels_true, axis=1), np.argmax(labels_pred, axis=1)))\n",
        "print('scores:', '\\n', classification_report(np.argmax(labels_true, axis=1), np.argmax(labels_pred, axis=1)))"
      ]
    },
    {
      "cell_type": "code",
      "execution_count": 8,
      "metadata": {
        "id": "Mk-q2iG9XCkZ",
        "colab": {
          "base_uri": "https://localhost:8080/"
        },
        "outputId": "e6a5d8b5-6354-48ed-a3a4-007e47413239"
      },
      "outputs": [
        {
          "output_type": "stream",
          "name": "stdout",
          "text": [
            "BaseballPitch :\n",
            "probability predictions obtained\n",
            "Basketball :\n",
            "probability predictions obtained\n",
            "Fencing :\n",
            "probability predictions obtained\n",
            "TennisSwing :\n",
            "probability predictions obtained\n",
            "VolleyballSpiking :\n",
            "probability predictions obtained\n",
            "confusion matrix: \n",
            " [[130   0  14   5   1]\n",
            " [  3   1  70  41  22]\n",
            " [  0   0 110   0   1]\n",
            " [  3   0  26 138   0]\n",
            " [  0   0  83   4  29]]\n",
            "scores: \n",
            "               precision    recall  f1-score   support\n",
            "\n",
            "           0       0.96      0.87      0.91       150\n",
            "           1       1.00      0.01      0.01       137\n",
            "           2       0.36      0.99      0.53       111\n",
            "           3       0.73      0.83      0.78       167\n",
            "           4       0.55      0.25      0.34       116\n",
            "\n",
            "    accuracy                           0.60       681\n",
            "   macro avg       0.72      0.59      0.52       681\n",
            "weighted avg       0.74      0.60      0.54       681\n",
            "\n"
          ]
        }
      ],
      "source": [
        "#vgg_model\n",
        "tensorflow.debugging.set_log_device_placement(True) \n",
        "keras.backend.clear_session()\n",
        "\n",
        "video_dir = '/content/drive/MyDrive/Data/Sport Videos'\n",
        "video_classes = [\"BaseballPitch\", \"Basketball\", \"Fencing\", \"TennisSwing\", \"VolleyballSpiking\"]\n",
        "\n",
        "labels_pred=[]\n",
        "labels_true=[]\n",
        "\n",
        "for video_class in video_classes:\n",
        "\n",
        "    print(video_class,':')\n",
        "    path=os.path.join(video_dir, video_class)\n",
        "    videos=os.listdir(path) #all videos in each folder\n",
        "    \n",
        "    for video in videos:\n",
        "\n",
        "        if video.endswith('.avi'):\n",
        "          capture=cv2.VideoCapture(str(os.path.join(path, video)))\n",
        "          num_frames=int(capture.get(cv2.CAP_PROP_FRAME_COUNT))\n",
        "          frame_indices=np.linspace(0, num_frames-1, 100, dtype=int)#indices of 100 equally spaced frame\n",
        "\n",
        "          if num_frames<100:#use all frames if a video has less the 100 frames\n",
        "            frame_indices=range(num_frames)\n",
        "          frame_probs=[]\n",
        "          for i in frame_indices:\n",
        "              capture.set(cv2.CAP_PROP_POS_FRAMES, i)#set frame\n",
        "              ret, frame = capture.read()#read frame\n",
        "              if not ret:\n",
        "                  continue\n",
        "              frame=cv2.resize(frame, (224, 224))\n",
        "              frame=np.expand_dims(frame, axis=0)\n",
        "\n",
        "              #predict probability for each frame\n",
        "              prob=vgg_model.predict(frame, verbose=0)[0]\n",
        "              frame_probs.append(prob)\n",
        "          avg_probs = np.mean(frame_probs, axis=0)\n",
        "          #print(video, avg_probs)\n",
        "          \n",
        "          label_pred=video_classes[np.argmax(avg_probs)]#Select the class with maximum probability\n",
        "          labels_pred.append(label_pred)\n",
        "          labels_true.append(video_class)#append true label\n",
        "    \n",
        "    print('probability predictions obtained')\n",
        "\n",
        "labels_pred=LabelEncoder().fit_transform(labels_pred)\n",
        "labels_pred=to_categorical(labels_pred, num_classes=5)\n",
        "labels_true=LabelEncoder().fit_transform(labels_true)\n",
        "labels_true=to_categorical(labels_true, num_classes=5)\n",
        "\n",
        "print('confusion matrix:', '\\n', confusion_matrix(np.argmax(labels_true, axis=1), np.argmax(labels_pred, axis=1)))\n",
        "print('scores:', '\\n', classification_report(np.argmax(labels_true, axis=1), np.argmax(labels_pred, axis=1)))"
      ]
    },
    {
      "cell_type": "markdown",
      "source": [
        "Conclusions: ResNet50 has the best performance on images among three models since it has the highest test accuracy of 0.93. After retraining the models using validation set, EfficientNetB0 seems to perform better on videos with an accuracy of 0.62."
      ],
      "metadata": {
        "id": "J_ricTiPs0eD"
      }
    }
  ],
  "metadata": {
    "accelerator": "GPU",
    "colab": {
      "machine_shape": "hm",
      "provenance": [],
      "mount_file_id": "1NcAMUNA7PpTvTtmie7Dd3PwEoglLcP0_",
      "authorship_tag": "ABX9TyPo1JxZvbeBqFh+sP6hdcO2",
      "include_colab_link": true
    },
    "gpuClass": "standard",
    "kernelspec": {
      "display_name": "Python 3",
      "name": "python3"
    },
    "language_info": {
      "name": "python"
    }
  },
  "nbformat": 4,
  "nbformat_minor": 0
}